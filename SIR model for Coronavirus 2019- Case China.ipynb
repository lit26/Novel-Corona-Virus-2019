{
 "cells": [
  {
   "cell_type": "markdown",
   "metadata": {},
   "source": [
    "# SIR model for Coronavirus 2019- Case China"
   ]
  },
  {
   "cell_type": "markdown",
   "metadata": {},
   "source": [
    "# Import library"
   ]
  },
  {
   "cell_type": "code",
   "execution_count": 1,
   "metadata": {},
   "outputs": [],
   "source": [
    "import os\n",
    "import numpy as np\n",
    "import scipy.integrate\n",
    "import matplotlib.pyplot as plt\n",
    "import pandas as pd\n",
    "import commonFunction as cf"
   ]
  },
  {
   "cell_type": "markdown",
   "metadata": {},
   "source": [
    "# SIR model\n",
    "* S(t) is the number of susceptible individuals. \n",
    "\\begin{equation*}\n",
    "\\frac{dS(t)}{dt} = -\\beta \\frac{S(t)I(t)}{N}\n",
    "\\end{equation*}\n",
    "* I(t) is the number of infected individuals. \n",
    "\\begin{equation*}\n",
    "\\frac{dI(t)}{dt} = \\beta \\frac{S(t)I(t)}{N}-\\gamma I(t)\n",
    "\\end{equation*}\n",
    "* R(t) is the number of recovered individuals\n",
    "\\begin{equation*}\n",
    "\\frac{dR(t)}{dt} = \\gamma I(t)\n",
    "\\end{equation*}"
   ]
  },
  {
   "cell_type": "code",
   "execution_count": 2,
   "metadata": {},
   "outputs": [],
   "source": [
    "# ODEs\n",
    "def SIR_model(y, t, N, beta, gamma):\n",
    "    S, I, R = y\n",
    "    dS_dt = -beta * S * I / N\n",
    "    dI_dt = beta * S * I / N - gamma * I\n",
    "    dR_dt = gamma * I\n",
    "    return dS_dt, dI_dt, dR_dt"
   ]
  },
  {
   "cell_type": "markdown",
   "metadata": {},
   "source": [
    "# Read Real data- update on 3/6/2020"
   ]
  },
  {
   "cell_type": "code",
   "execution_count": 3,
   "metadata": {},
   "outputs": [
    {
     "ename": "NameError",
     "evalue": "name 'cf' is not defined",
     "output_type": "error",
     "traceback": [
      "\u001b[0;31m---------------------------------------------------------------------------\u001b[0m",
      "\u001b[0;31mNameError\u001b[0m                                 Traceback (most recent call last)",
      "\u001b[0;32m<ipython-input-3-a0c2f034a52c>\u001b[0m in \u001b[0;36m<module>\u001b[0;34m\u001b[0m\n\u001b[1;32m      1\u001b[0m \u001b[0mbase_path\u001b[0m \u001b[0;34m=\u001b[0m \u001b[0;34m'COVID-19/csse_covid_19_data/csse_covid_19_time_series/'\u001b[0m\u001b[0;34m\u001b[0m\u001b[0;34m\u001b[0m\u001b[0m\n\u001b[0;32m----> 2\u001b[0;31m \u001b[0mdf_confirmed\u001b[0m \u001b[0;34m=\u001b[0m \u001b[0mcf\u001b[0m\u001b[0;34m.\u001b[0m\u001b[0mreadData\u001b[0m\u001b[0;34m(\u001b[0m\u001b[0mbase_path\u001b[0m\u001b[0;34m,\u001b[0m \u001b[0;34m'time_series_19-covid-Confirmed.csv'\u001b[0m\u001b[0;34m,\u001b[0m\u001b[0;34m'Confirmed'\u001b[0m\u001b[0;34m)\u001b[0m\u001b[0;34m\u001b[0m\u001b[0;34m\u001b[0m\u001b[0m\n\u001b[0m\u001b[1;32m      3\u001b[0m \u001b[0mdf_deaths\u001b[0m \u001b[0;34m=\u001b[0m \u001b[0mcf\u001b[0m\u001b[0;34m.\u001b[0m\u001b[0mreadData\u001b[0m\u001b[0;34m(\u001b[0m\u001b[0mbase_path\u001b[0m\u001b[0;34m,\u001b[0m \u001b[0;34m'time_series_19-covid-Deaths.csv'\u001b[0m\u001b[0;34m,\u001b[0m\u001b[0;34m'Deaths'\u001b[0m\u001b[0;34m)\u001b[0m\u001b[0;34m\u001b[0m\u001b[0;34m\u001b[0m\u001b[0m\n\u001b[1;32m      4\u001b[0m \u001b[0mdf_recovered\u001b[0m \u001b[0;34m=\u001b[0m \u001b[0mcf\u001b[0m\u001b[0;34m.\u001b[0m\u001b[0mreadData\u001b[0m\u001b[0;34m(\u001b[0m\u001b[0mbase_path\u001b[0m\u001b[0;34m,\u001b[0m \u001b[0;34m'time_series_19-covid-Recovered.csv'\u001b[0m\u001b[0;34m,\u001b[0m\u001b[0;34m'Recovered'\u001b[0m\u001b[0;34m)\u001b[0m\u001b[0;34m\u001b[0m\u001b[0;34m\u001b[0m\u001b[0m\n\u001b[1;32m      5\u001b[0m \u001b[0mdf_confirmed\u001b[0m \u001b[0;34m=\u001b[0m \u001b[0mdf_confirmed\u001b[0m\u001b[0;34m[\u001b[0m\u001b[0mdf_confirmed\u001b[0m\u001b[0;34m[\u001b[0m\u001b[0;34m'Country/Region'\u001b[0m\u001b[0;34m]\u001b[0m\u001b[0;34m==\u001b[0m\u001b[0;34m'Mainland China'\u001b[0m\u001b[0;34m]\u001b[0m\u001b[0;34m\u001b[0m\u001b[0;34m\u001b[0m\u001b[0m\n",
      "\u001b[0;31mNameError\u001b[0m: name 'cf' is not defined"
     ]
    }
   ],
   "source": [
    "base_path = 'COVID-19/csse_covid_19_data/csse_covid_19_time_series/'\n",
    "df_confirmed = cf.readData(base_path, 'time_series_19-covid-Confirmed.csv','Confirmed')\n",
    "df_deaths = cf.readData(base_path, 'time_series_19-covid-Deaths.csv','Deaths')\n",
    "df_recovered = cf.readData(base_path, 'time_series_19-covid-Recovered.csv','Recovered')\n",
    "df_confirmed = df_confirmed[df_confirmed['Country/Region']=='Mainland China']\n",
    "df_deaths = df_deaths[df_deaths['Country/Region']=='Mainland China']\n",
    "df_recovered = df_recovered[df_recovered['Country/Region']=='Mainland China']\n",
    "df = df_confirmed.append(df_deaths)\n",
    "df = df.append(df_recovered)\n",
    "df = df[['Date', 'Province/State', 'Country/Region', 'Confirmed','Deaths','Recovered']]\n",
    "df[['Confirmed','Deaths','Recovered']] = df[['Confirmed','Deaths','Recovered']].fillna(0)\n",
    "df_trend = df.groupby(['Date']).sum()\n",
    "df_trend['Infected'] = df_trend['Confirmed']-df_trend['Deaths']-df_trend['Recovered']"
   ]
  },
  {
   "cell_type": "code",
   "execution_count": null,
   "metadata": {},
   "outputs": [],
   "source": [
    "df_trend.tail()"
   ]
  },
  {
   "cell_type": "code",
<<<<<<< HEAD
   "execution_count": 5,
=======
   "execution_count": null,
>>>>>>> ab6a01b5b962b2b6fcf9d30c460d70ae8e40aba1
   "metadata": {},
   "outputs": [],
   "source": [
    "df_trend = df_trend.reset_index()\n",
    "start_date = df_trend['Date'][0].strftime(\"%Y-%m-%d\")\n",
    "end_date = df_trend['Date'][len(df_trend)-1].strftime(\"%Y-%m-%d\")"
   ]
  },
  {
   "cell_type": "code",
<<<<<<< HEAD
   "execution_count": 6,
   "metadata": {},
   "outputs": [
    {
     "name": "stderr",
     "output_type": "stream",
     "text": [
      "/usr/local/lib/python3.7/site-packages/pandas/plotting/_matplotlib/converter.py:103: FutureWarning: Using an implicitly registered datetime converter for a matplotlib plotting method. The converter was registered by pandas on import. Future versions of pandas will require you to explicitly register matplotlib converters.\n",
      "\n",
      "To register the converters:\n",
      "\t>>> from pandas.plotting import register_matplotlib_converters\n",
      "\t>>> register_matplotlib_converters()\n",
      "  warnings.warn(msg, FutureWarning)\n"
     ]
    },
    {
     "data": {
      "image/png": "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\n",
      "text/plain": [
       "<Figure size 432x288 with 1 Axes>"
      ]
     },
     "metadata": {
      "needs_background": "light"
     },
     "output_type": "display_data"
    }
   ],
=======
   "execution_count": null,
   "metadata": {},
   "outputs": [],
>>>>>>> ab6a01b5b962b2b6fcf9d30c460d70ae8e40aba1
   "source": [
    "start = pd.Timestamp(start_date)\n",
    "end = pd.Timestamp(end_date)\n",
    "t = np.linspace(start.value, end.value, len(df_trend))\n",
    "t = pd.to_datetime(t)\n",
    "plt.plot(t, 'Infected', data=df_trend, color='#D79913')\n",
    "plt.plot(t, 'Recovered', data=df_trend, color='green')\n",
    "plt.ylabel('Number of cases', fontsize=15)\n",
    "plt.xlabel('Date', fontsize=15)\n",
    "plt.xticks(rotation=20)\n",
    "plt.legend()\n",
    "plt.show()"
   ]
  },
  {
   "cell_type": "markdown",
   "metadata": {},
   "source": [
    "# Parameter and initial condition\n",
    "* $\\beta$ is the infectious rate\n",
    "* $\\gamma$ is the recovery rate"
   ]
  },
  {
   "cell_type": "code",
<<<<<<< HEAD
   "execution_count": 7,
=======
   "execution_count": null,
>>>>>>> ab6a01b5b962b2b6fcf9d30c460d70ae8e40aba1
   "metadata": {},
   "outputs": [],
   "source": [
    "# Total population of China\n",
    "# Tunning get 0.07% are susceptible individuals. Fractions will affect the max number of population infected.\n",
    "N = 1437570976\n",
    "N = N*0.000056 # tunning get 0.07% are susceptible individuals. \n",
    "\n",
    "# Initial number of infected and recovered individuals, I0 and R0.\n",
    "I0, R0 = 547, 28\n",
    "S0 = N - I0 - R0\n",
    "\n",
    "# Hyper parameter beta and gamma\n",
    "# Beta will move the trend left or right\n",
    "# Gamma will shrink or expand the trend\n",
    "beta, gamma = 0.37, 0.03"
   ]
  },
  {
   "cell_type": "markdown",
   "metadata": {},
   "source": [
    "# Build model"
   ]
  },
  {
   "cell_type": "code",
<<<<<<< HEAD
   "execution_count": 8,
=======
   "execution_count": null,
>>>>>>> ab6a01b5b962b2b6fcf9d30c460d70ae8e40aba1
   "metadata": {},
   "outputs": [],
   "source": [
    "y0 = S0, I0, R0\n",
    "days=np.linspace(0,len(df_trend)-1,len(df_trend))\n",
    "ret = scipy.integrate.odeint(SIR_model, y0, days, args=(N, beta, gamma))\n",
    "S, I, R = ret.T"
   ]
  },
  {
   "cell_type": "code",
<<<<<<< HEAD
   "execution_count": 9,
=======
   "execution_count": null,
>>>>>>> ab6a01b5b962b2b6fcf9d30c460d70ae8e40aba1
   "metadata": {},
   "outputs": [],
   "source": [
    "# Plot for infected and Recovered\n",
    "plt.figure(figsize=[8,6])\n",
    "plt.plot(t, I, color='#D79913', label='Infected_SIRmodel')\n",
    "plt.plot(t, 'Infected', data=df_trend, linestyle='dashed',color='#D79913',label='Infected_real')\n",
    "plt.plot(t, R, color='g', label='Recovered_SIRmodel')\n",
    "plt.plot(t, 'Recovered', data=df_trend, linestyle='dashed',color='g',label='Recovered_real')\n",
    "plt.xticks(rotation=20)\n",
    "plt.legend()\n",
    "plt.show()"
   ]
  },
  {
   "cell_type": "markdown",
   "metadata": {},
   "source": [
    "# Prediction"
   ]
  },
  {
   "cell_type": "code",
<<<<<<< HEAD
   "execution_count": 10,
=======
   "execution_count": null,
>>>>>>> ab6a01b5b962b2b6fcf9d30c460d70ae8e40aba1
   "metadata": {},
   "outputs": [],
   "source": [
    "start = pd.Timestamp('2020-01-22')\n",
    "end = pd.Timestamp('2020-7-1')\n",
    "t = np.linspace(start.value, end.value, 162)\n",
    "t = pd.to_datetime(t)\n",
    "days = np.linspace(0,161,162)\n",
    "prediction = scipy.integrate.odeint(SIR_model, y0, days, args=(N, beta, gamma))\n",
    "S_p, I_p, R_p = prediction.T\n",
    "\n",
    "plt.figure(figsize=[8,6])\n",
    "plt.plot(t, I_p, color='#D79913', label='Infected_pred')\n",
    "plt.plot(t, R_p, color='g', label='Recovered_pred')\n",
    "plt.xticks(rotation=20)\n",
    "plt.legend()\n",
    "plt.show()"
   ]
  },
  {
   "cell_type": "code",
<<<<<<< HEAD
   "execution_count": 11,
   "metadata": {},
   "outputs": [
    {
     "data": {
      "text/html": [
       "<div>\n",
       "<style scoped>\n",
       "    .dataframe tbody tr th:only-of-type {\n",
       "        vertical-align: middle;\n",
       "    }\n",
       "\n",
       "    .dataframe tbody tr th {\n",
       "        vertical-align: top;\n",
       "    }\n",
       "\n",
       "    .dataframe thead th {\n",
       "        text-align: right;\n",
       "    }\n",
       "</style>\n",
       "<table border=\"1\" class=\"dataframe\">\n",
       "  <thead>\n",
       "    <tr style=\"text-align: right;\">\n",
       "      <th></th>\n",
       "      <th>Date</th>\n",
       "      <th>S</th>\n",
       "      <th>I</th>\n",
       "      <th>R</th>\n",
       "    </tr>\n",
       "  </thead>\n",
       "  <tbody>\n",
       "    <tr>\n",
       "      <th>157</th>\n",
       "      <td>2020-06-27</td>\n",
       "      <td>0.0</td>\n",
       "      <td>1145.0</td>\n",
       "      <td>79359.0</td>\n",
       "    </tr>\n",
       "    <tr>\n",
       "      <th>158</th>\n",
       "      <td>2020-06-28</td>\n",
       "      <td>0.0</td>\n",
       "      <td>1111.0</td>\n",
       "      <td>79393.0</td>\n",
       "    </tr>\n",
       "    <tr>\n",
       "      <th>159</th>\n",
       "      <td>2020-06-29</td>\n",
       "      <td>0.0</td>\n",
       "      <td>1078.0</td>\n",
       "      <td>79425.0</td>\n",
       "    </tr>\n",
       "    <tr>\n",
       "      <th>160</th>\n",
       "      <td>2020-06-30</td>\n",
       "      <td>0.0</td>\n",
       "      <td>1046.0</td>\n",
       "      <td>79457.0</td>\n",
       "    </tr>\n",
       "    <tr>\n",
       "      <th>161</th>\n",
       "      <td>2020-07-01</td>\n",
       "      <td>0.0</td>\n",
       "      <td>1015.0</td>\n",
       "      <td>79488.0</td>\n",
       "    </tr>\n",
       "  </tbody>\n",
       "</table>\n",
       "</div>"
      ],
      "text/plain": [
       "          Date    S       I        R\n",
       "157 2020-06-27  0.0  1145.0  79359.0\n",
       "158 2020-06-28  0.0  1111.0  79393.0\n",
       "159 2020-06-29  0.0  1078.0  79425.0\n",
       "160 2020-06-30  0.0  1046.0  79457.0\n",
       "161 2020-07-01  0.0  1015.0  79488.0"
      ]
     },
     "execution_count": 11,
     "metadata": {},
     "output_type": "execute_result"
    }
   ],
=======
   "execution_count": null,
   "metadata": {},
   "outputs": [],
>>>>>>> ab6a01b5b962b2b6fcf9d30c460d70ae8e40aba1
   "source": [
    "data = np.array([list(S_p),list(I_p),list(R_p)])\n",
    "df = pd.DataFrame({\"Date\":t,\"S\":list(S_p), \"I\":list(I_p),\"R\":list(R_p)})\n",
    "df = df.round(0)\n",
    "df.tail()"
   ]
  }
 ],
 "metadata": {
  "kernelspec": {
   "display_name": "Python 3",
   "language": "python",
   "name": "python3"
  },
  "language_info": {
   "codemirror_mode": {
    "name": "ipython",
    "version": 3
   },
   "file_extension": ".py",
   "mimetype": "text/x-python",
   "name": "python",
   "nbconvert_exporter": "python",
   "pygments_lexer": "ipython3",
   "version": "3.7.5"
  }
 },
 "nbformat": 4,
 "nbformat_minor": 2
}
