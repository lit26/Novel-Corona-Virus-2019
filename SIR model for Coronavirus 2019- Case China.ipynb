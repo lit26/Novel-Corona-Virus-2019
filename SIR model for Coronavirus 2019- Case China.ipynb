{
 "cells": [
  {
   "cell_type": "markdown",
   "metadata": {},
   "source": [
    "# SIR model for Coronavirus 2019- Case China"
   ]
  },
  {
   "cell_type": "markdown",
   "metadata": {},
   "source": [
    "# Import library"
   ]
  },
  {
   "cell_type": "code",
   "execution_count": 1,
   "metadata": {},
   "outputs": [],
   "source": [
    "import os\n",
    "import numpy as np\n",
    "import scipy.integrate\n",
    "import matplotlib.pyplot as plt\n",
    "import pandas as pd\n",
    "import commonFunction as cf"
   ]
  },
  {
   "cell_type": "markdown",
   "metadata": {},
   "source": [
    "# SIR model\n",
    "* S(t) is the number of susceptible individuals. \n",
    "\\begin{equation*}\n",
    "\\frac{dS(t)}{dt} = -\\beta \\frac{S(t)I(t)}{N}\n",
    "\\end{equation*}\n",
    "* I(t) is the number of infected individuals. \n",
    "\\begin{equation*}\n",
    "\\frac{dI(t)}{dt} = \\beta \\frac{S(t)I(t)}{N}-\\gamma I(t)\n",
    "\\end{equation*}\n",
    "* R(t) is the number of recovered individuals\n",
    "\\begin{equation*}\n",
    "\\frac{dR(t)}{dt} = \\gamma I(t)\n",
    "\\end{equation*}"
   ]
  },
  {
   "cell_type": "code",
   "execution_count": 2,
   "metadata": {},
   "outputs": [],
   "source": [
    "# ODEs\n",
    "def SIR_model(y, t, N, beta, gamma):\n",
    "    S, I, R = y\n",
    "    dS_dt = -beta * S * I / N\n",
    "    dI_dt = beta * S * I / N - gamma * I\n",
    "    dR_dt = gamma * I\n",
    "    return dS_dt, dI_dt, dR_dt"
   ]
  },
  {
   "cell_type": "markdown",
   "metadata": {},
   "source": [
    "# Read Real data- update on 3/6/2020"
   ]
  },
  {
   "cell_type": "code",
   "execution_count": 3,
   "metadata": {},
   "outputs": [
    {
     "ename": "NameError",
     "evalue": "name 'cf' is not defined",
     "output_type": "error",
     "traceback": [
      "\u001b[0;31m---------------------------------------------------------------------------\u001b[0m",
      "\u001b[0;31mNameError\u001b[0m                                 Traceback (most recent call last)",
      "\u001b[0;32m<ipython-input-3-a0c2f034a52c>\u001b[0m in \u001b[0;36m<module>\u001b[0;34m\u001b[0m\n\u001b[1;32m      1\u001b[0m \u001b[0mbase_path\u001b[0m \u001b[0;34m=\u001b[0m \u001b[0;34m'COVID-19/csse_covid_19_data/csse_covid_19_time_series/'\u001b[0m\u001b[0;34m\u001b[0m\u001b[0;34m\u001b[0m\u001b[0m\n\u001b[0;32m----> 2\u001b[0;31m \u001b[0mdf_confirmed\u001b[0m \u001b[0;34m=\u001b[0m \u001b[0mcf\u001b[0m\u001b[0;34m.\u001b[0m\u001b[0mreadData\u001b[0m\u001b[0;34m(\u001b[0m\u001b[0mbase_path\u001b[0m\u001b[0;34m,\u001b[0m \u001b[0;34m'time_series_19-covid-Confirmed.csv'\u001b[0m\u001b[0;34m,\u001b[0m\u001b[0;34m'Confirmed'\u001b[0m\u001b[0;34m)\u001b[0m\u001b[0;34m\u001b[0m\u001b[0;34m\u001b[0m\u001b[0m\n\u001b[0m\u001b[1;32m      3\u001b[0m \u001b[0mdf_deaths\u001b[0m \u001b[0;34m=\u001b[0m \u001b[0mcf\u001b[0m\u001b[0;34m.\u001b[0m\u001b[0mreadData\u001b[0m\u001b[0;34m(\u001b[0m\u001b[0mbase_path\u001b[0m\u001b[0;34m,\u001b[0m \u001b[0;34m'time_series_19-covid-Deaths.csv'\u001b[0m\u001b[0;34m,\u001b[0m\u001b[0;34m'Deaths'\u001b[0m\u001b[0;34m)\u001b[0m\u001b[0;34m\u001b[0m\u001b[0;34m\u001b[0m\u001b[0m\n\u001b[1;32m      4\u001b[0m \u001b[0mdf_recovered\u001b[0m \u001b[0;34m=\u001b[0m \u001b[0mcf\u001b[0m\u001b[0;34m.\u001b[0m\u001b[0mreadData\u001b[0m\u001b[0;34m(\u001b[0m\u001b[0mbase_path\u001b[0m\u001b[0;34m,\u001b[0m \u001b[0;34m'time_series_19-covid-Recovered.csv'\u001b[0m\u001b[0;34m,\u001b[0m\u001b[0;34m'Recovered'\u001b[0m\u001b[0;34m)\u001b[0m\u001b[0;34m\u001b[0m\u001b[0;34m\u001b[0m\u001b[0m\n\u001b[1;32m      5\u001b[0m \u001b[0mdf_confirmed\u001b[0m \u001b[0;34m=\u001b[0m \u001b[0mdf_confirmed\u001b[0m\u001b[0;34m[\u001b[0m\u001b[0mdf_confirmed\u001b[0m\u001b[0;34m[\u001b[0m\u001b[0;34m'Country/Region'\u001b[0m\u001b[0;34m]\u001b[0m\u001b[0;34m==\u001b[0m\u001b[0;34m'Mainland China'\u001b[0m\u001b[0;34m]\u001b[0m\u001b[0;34m\u001b[0m\u001b[0;34m\u001b[0m\u001b[0m\n",
      "\u001b[0;31mNameError\u001b[0m: name 'cf' is not defined"
     ]
    }
   ],
   "source": [
    "base_path = 'COVID-19/csse_covid_19_data/csse_covid_19_time_series/'\n",
    "df_confirmed = cf.readData(base_path, 'time_series_19-covid-Confirmed.csv','Confirmed')\n",
    "df_deaths = cf.readData(base_path, 'time_series_19-covid-Deaths.csv','Deaths')\n",
    "df_recovered = cf.readData(base_path, 'time_series_19-covid-Recovered.csv','Recovered')\n",
    "df_confirmed = df_confirmed[df_confirmed['Country/Region']=='Mainland China']\n",
    "df_deaths = df_deaths[df_deaths['Country/Region']=='Mainland China']\n",
    "df_recovered = df_recovered[df_recovered['Country/Region']=='Mainland China']\n",
    "df = df_confirmed.append(df_deaths)\n",
    "df = df.append(df_recovered)\n",
    "df = df[['Date', 'Province/State', 'Country/Region', 'Confirmed','Deaths','Recovered']]\n",
    "df[['Confirmed','Deaths','Recovered']] = df[['Confirmed','Deaths','Recovered']].fillna(0)\n",
    "df_trend = df.groupby(['Date']).sum()\n",
    "df_trend['Infected'] = df_trend['Confirmed']-df_trend['Deaths']-df_trend['Recovered']"
   ]
  },
  {
   "cell_type": "code",
   "execution_count": null,
   "metadata": {},
   "outputs": [],
   "source": [
    "df_trend.tail()"
   ]
  },
  {
   "cell_type": "code",
   "execution_count": null,
   "metadata": {},
   "outputs": [],
   "source": [
    "df_trend = df_trend.reset_index()\n",
    "start_date = df_trend['Date'][0].strftime(\"%Y-%m-%d\")\n",
    "end_date = df_trend['Date'][len(df_trend)-1].strftime(\"%Y-%m-%d\")"
   ]
  },
  {
   "cell_type": "code",
   "execution_count": null,
   "metadata": {},
   "outputs": [],
   "source": [
    "start = pd.Timestamp(start_date)\n",
    "end = pd.Timestamp(end_date)\n",
    "t = np.linspace(start.value, end.value, len(df_trend))\n",
    "t = pd.to_datetime(t)\n",
    "plt.plot(t, 'Infected', data=df_trend, color='#D79913')\n",
    "plt.plot(t, 'Recovered', data=df_trend, color='green')\n",
    "plt.ylabel('Number of cases', fontsize=15)\n",
    "plt.xlabel('Date', fontsize=15)\n",
    "plt.xticks(rotation=20)\n",
    "plt.legend()\n",
    "plt.show()"
   ]
  },
  {
   "cell_type": "markdown",
   "metadata": {},
   "source": [
    "# Parameter and initial condition\n",
    "* $\\beta$ is the infectious rate\n",
    "* $\\gamma$ is the recovery rate"
   ]
  },
  {
   "cell_type": "code",
   "execution_count": null,
   "metadata": {},
   "outputs": [],
   "source": [
    "# Total population of China\n",
    "# Tunning get 0.07% are susceptible individuals. Fractions will affect the max number of population infected.\n",
    "N = 1437570976\n",
    "N = N*0.000056 # tunning get 0.07% are susceptible individuals. \n",
    "\n",
    "# Initial number of infected and recovered individuals, I0 and R0.\n",
    "I0, R0 = 547, 28\n",
    "S0 = N - I0 - R0\n",
    "\n",
    "# Hyper parameter beta and gamma\n",
    "# Beta will move the trend left or right\n",
    "# Gamma will shrink or expand the trend\n",
    "beta, gamma = 0.37, 0.03"
   ]
  },
  {
   "cell_type": "markdown",
   "metadata": {},
   "source": [
    "# Build model"
   ]
  },
  {
   "cell_type": "code",
   "execution_count": null,
   "metadata": {},
   "outputs": [],
   "source": [
    "y0 = S0, I0, R0\n",
    "days=np.linspace(0,len(df_trend)-1,len(df_trend))\n",
    "ret = scipy.integrate.odeint(SIR_model, y0, days, args=(N, beta, gamma))\n",
    "S, I, R = ret.T"
   ]
  },
  {
   "cell_type": "code",
   "execution_count": null,
   "metadata": {},
   "outputs": [],
   "source": [
    "# Plot for infected and Recovered\n",
    "plt.figure(figsize=[8,6])\n",
    "plt.plot(t, I, color='#D79913', label='Infected_SIRmodel')\n",
    "plt.plot(t, 'Infected', data=df_trend, linestyle='dashed',color='#D79913',label='Infected_real')\n",
    "plt.plot(t, R, color='g', label='Recovered_SIRmodel')\n",
    "plt.plot(t, 'Recovered', data=df_trend, linestyle='dashed',color='g',label='Recovered_real')\n",
    "plt.xticks(rotation=20)\n",
    "plt.legend()\n",
    "plt.show()"
   ]
  },
  {
   "cell_type": "markdown",
   "metadata": {},
   "source": [
    "# Prediction"
   ]
  },
  {
   "cell_type": "code",
   "execution_count": null,
   "metadata": {},
   "outputs": [],
   "source": [
    "start = pd.Timestamp('2020-01-22')\n",
    "end = pd.Timestamp('2020-7-1')\n",
    "t = np.linspace(start.value, end.value, 162)\n",
    "t = pd.to_datetime(t)\n",
    "days = np.linspace(0,161,162)\n",
    "prediction = scipy.integrate.odeint(SIR_model, y0, days, args=(N, beta, gamma))\n",
    "S_p, I_p, R_p = prediction.T\n",
    "\n",
    "plt.figure(figsize=[8,6])\n",
    "plt.plot(t, I_p, color='#D79913', label='Infected_pred')\n",
    "plt.plot(t, R_p, color='g', label='Recovered_pred')\n",
    "plt.xticks(rotation=20)\n",
    "plt.legend()\n",
    "plt.show()"
   ]
  },
  {
   "cell_type": "code",
   "execution_count": null,
   "metadata": {},
   "outputs": [],
   "source": [
    "data = np.array([list(S_p),list(I_p),list(R_p)])\n",
    "df = pd.DataFrame({\"Date\":t,\"S\":list(S_p), \"I\":list(I_p),\"R\":list(R_p)})\n",
    "df = df.round(0)\n",
    "df.tail()"
   ]
  }
 ],
 "metadata": {
  "kernelspec": {
   "display_name": "Python 3",
   "language": "python",
   "name": "python3"
  },
  "language_info": {
   "codemirror_mode": {
    "name": "ipython",
    "version": 3
   },
   "file_extension": ".py",
   "mimetype": "text/x-python",
   "name": "python",
   "nbconvert_exporter": "python",
   "pygments_lexer": "ipython3",
   "version": "3.7.5"
  }
 },
 "nbformat": 4,
 "nbformat_minor": 2
}
